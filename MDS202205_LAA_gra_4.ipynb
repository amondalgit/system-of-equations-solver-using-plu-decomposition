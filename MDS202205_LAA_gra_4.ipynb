{
  "cells": [
    {
      "cell_type": "markdown",
      "metadata": {
        "id": "RjCs9UFaNQiL"
      },
      "source": [
        "![Gaussian Elimination with Partial Pivoting](https://github.com/amondalgit/system-of-equations-solver-using-plu-decomposition/blob/main/ge_partial_pivoting.png?raw=1)"
      ]
    },
    {
      "cell_type": "markdown",
      "metadata": {
        "id": "4sGdVxr5NQiO"
      },
      "source": [
        "### Import Dependncies"
      ]
    },
    {
      "cell_type": "code",
      "execution_count": 1,
      "metadata": {},
      "outputs": [],
      "source": [
        "from time import time_ns"
      ]
    },
    {
      "cell_type": "code",
      "execution_count": 2,
      "metadata": {},
      "outputs": [
        {
          "data": {
            "text/plain": [
              "0"
            ]
          },
          "execution_count": 2,
          "metadata": {},
          "output_type": "execute_result"
        }
      ],
      "source": [
        "a = time_ns()\n",
        "sum([*range(10)])\n",
        "(time_ns()-a)*10**6"
      ]
    },
    {
      "cell_type": "code",
      "execution_count": 3,
      "metadata": {
        "id": "YcQ_6irWNQiO"
      },
      "outputs": [],
      "source": [
        "import helper as hp\n",
        "import pandas as pd\n",
        "\n",
        "from IPython.display import display\n",
        "\n",
        "pd.set_option('display.float_format', '{:.5e}'.format)"
      ]
    },
    {
      "cell_type": "markdown",
      "metadata": {
        "id": "HuQonQN7NQiQ"
      },
      "source": [
        "## Comparison Table generation\n",
        "Block to generate tables for comparing execution Times and Norms between 3 methods:\n",
        "1. Built function\n",
        "1. `Scipy.linalg.lu` method \n",
        "    >decomposes given matrix **A** into 3 matrices **P** **L** **U**, where degree(**A**) == degree(**P**, **L**, **U**)\n",
        "1. `Scipy.linalg.lu_factor` method\n",
        "    >decomposes given matrix **A** into a matrix **lu** and **piv**, where, \n",
        "    >\n",
        "    >**lu**: (M,N) Matrix containing **U** in its upper triangle, and **L** in its lower triangle. The unit diagonal elements of **L** are not stored.\n",
        "    >\n",
        "    >**piv** : (N,) ndarray. Pivot indices representing the permutation matrix **P**: row `i` of matrix was interchanged with row **piv**[`i`]."
      ]
    },
    {
      "cell_type": "markdown",
      "metadata": {
        "id": "Qxgy9pqANQiQ"
      },
      "source": [
        "### Function for generating two tables"
      ]
    },
    {
      "cell_type": "code",
      "execution_count": 4,
      "metadata": {
        "id": "4JQXIzU6NQiQ"
      },
      "outputs": [],
      "source": [
        "def final_comparison(degree_arr):\n",
        "    headers1 = ['Time (Built)','Time (Scipy.lu)', 'Time (Scipy.lu_factor)',\n",
        "                '|| PA-LU (Built) ||','|| PA-LU (Scipy.lu) ||']\n",
        "    \n",
        "    headers2 = ['Time (Built)','Time (Scipy.lu)', 'Time (Scipy.lu_factor)', \n",
        "                '|| Ax-b (Built) ||','|| Ax-b (Scipy.lu) ||','|| Ax-b (Scipy.lu_factor) ||']\n",
        "    \n",
        "    decomp_stat_table = pd.DataFrame(columns=headers1, index=degree_arr)\n",
        "    soln_stat_table = pd.DataFrame(columns=headers2, index=degree_arr)\n",
        "\n",
        "    decomp_stat_table.index.names = ['Degree']\n",
        "    soln_stat_table.index.names = ['Degree']\n",
        "\n",
        "    for degree in degree_arr:\n",
        "        A, b = hp.get_matrix(degree), hp.get_array(degree)\n",
        "        \n",
        "        my_result = hp.my_system_of_equations_solver(A, b)\n",
        "        scipy_result = hp.scipy_system_of_equations_solver(A, b)\n",
        "     \n",
        "        if my_result == None or scipy_result == None:\n",
        "            decomp_stat_table.loc[degree]= ['Singular Matrix'] * len(headers1)\n",
        "            soln_stat_table.loc[degree]= ['Singular Matrix'] * len(headers2)\n",
        "        else:\n",
        "            decomp_stat_table.loc[degree] = [my_result['time_decomp'], scipy_result['time_decomp_lu'], scipy_result['time_decomp_lu_factor'], \n",
        "                                             my_result['palu_norm'], scipy_result['palu_norm_lu']]\n",
        "            \n",
        "            soln_stat_table.loc[degree] = [my_result['time_solve'], scipy_result['time_solve_lu'], scipy_result['time_solve_lu_factor'], \n",
        "                                           my_result['axb_norm'], scipy_result['axb_norm_lu'], scipy_result['axb_norm_lu_factor']]\n",
        "\n",
        "    return decomp_stat_table, soln_stat_table"
      ]
    },
    {
      "cell_type": "markdown",
      "metadata": {
        "id": "TTd-lgghNQiR"
      },
      "source": [
        "### Execution on matrices of different sizes"
      ]
    },
    {
      "cell_type": "code",
      "execution_count": 5,
      "metadata": {
        "id": "ElEuSel9NQiR"
      },
      "outputs": [],
      "source": [
        "degree_array = [10, 100, 500, 1000, 1500]         # size of the square matrices\n",
        "decomp_stat, soln_stat = final_comparison(degree_array)"
      ]
    },
    {
      "cell_type": "markdown",
      "metadata": {
        "id": "i3tXzp7XNQiS"
      },
      "source": [
        "### Comparision table for LU decomposion using different methods\n",
        "\n",
        ">`Time (Built)`: Time taken by Built method\n",
        "\n",
        ">`Time (Scipy.lu)`: Time taken by `Scipy.linalg.lu_factor` method\n",
        "\n",
        ">`Time (Scipy.lu_factor)`: `Scipy.linalg.lu` method\n",
        "\n",
        ">`|| PA-LU (Built) ||`: Norm of **PA-LU** matrix, where **P**, **L**, **U** calculated using Built method\n",
        "\n",
        ">`|| PA-LU (Scipy.lu) ||`: Norm of **PA-LU** matrix, where **P**, **L**, **U** calculated using `Scipy.linalg.lu` method\n",
        "\n",
        "*Please Note:* Norm of **PA-LU** using `Scipy.linalg.lu_factor` method could not be easily calculated because the Permutation matrix is in LEPACK's permutation array format."
      ]
    },
    {
      "cell_type": "code",
      "execution_count": 6,
      "metadata": {
        "colab": {
          "base_uri": "https://localhost:8080/",
          "height": 237
        },
        "id": "x7itLdFHNQiS",
        "outputId": "83f68e21-bff9-483a-96e4-7fb7c60d5956"
      },
      "outputs": [
        {
          "data": {
            "text/html": [
              "<div>\n",
              "<style scoped>\n",
              "    .dataframe tbody tr th:only-of-type {\n",
              "        vertical-align: middle;\n",
              "    }\n",
              "\n",
              "    .dataframe tbody tr th {\n",
              "        vertical-align: top;\n",
              "    }\n",
              "\n",
              "    .dataframe thead th {\n",
              "        text-align: right;\n",
              "    }\n",
              "</style>\n",
              "<table border=\"1\" class=\"dataframe\">\n",
              "  <thead>\n",
              "    <tr style=\"text-align: right;\">\n",
              "      <th></th>\n",
              "      <th>Time (Built)</th>\n",
              "      <th>Time (Scipy.lu)</th>\n",
              "      <th>Time (Scipy.lu_factor)</th>\n",
              "      <th>|| PA-LU (Built) ||</th>\n",
              "      <th>|| PA-LU (Scipy.lu) ||</th>\n",
              "    </tr>\n",
              "    <tr>\n",
              "      <th>Degree</th>\n",
              "      <th></th>\n",
              "      <th></th>\n",
              "      <th></th>\n",
              "      <th></th>\n",
              "      <th></th>\n",
              "    </tr>\n",
              "  </thead>\n",
              "  <tbody>\n",
              "    <tr>\n",
              "      <th>10</th>\n",
              "      <td>3.27830e+06</td>\n",
              "      <td>8.68280e+06</td>\n",
              "      <td>1.37560e+06</td>\n",
              "      <td>7.40125e-14</td>\n",
              "      <td>8.48059e-14</td>\n",
              "    </tr>\n",
              "    <tr>\n",
              "      <th>100</th>\n",
              "      <td>2.00299e+07</td>\n",
              "      <td>2.06497e+07</td>\n",
              "      <td>1.86630e+07</td>\n",
              "      <td>4.34047e-12</td>\n",
              "      <td>3.73204e-12</td>\n",
              "    </tr>\n",
              "  </tbody>\n",
              "</table>\n",
              "</div>"
            ],
            "text/plain": [
              "       Time (Built) Time (Scipy.lu) Time (Scipy.lu_factor)  \\\n",
              "Degree                                                       \n",
              "10      3.27830e+06     8.68280e+06            1.37560e+06   \n",
              "100     2.00299e+07     2.06497e+07            1.86630e+07   \n",
              "\n",
              "       || PA-LU (Built) || || PA-LU (Scipy.lu) ||  \n",
              "Degree                                             \n",
              "10             7.40125e-14            8.48059e-14  \n",
              "100            4.34047e-12            3.73204e-12  "
            ]
          },
          "execution_count": 6,
          "metadata": {},
          "output_type": "execute_result"
        }
      ],
      "source": [
        "decomp_stat"
      ]
    },
    {
      "cell_type": "markdown",
      "metadata": {
        "id": "q3ilKZcUNQiT"
      },
      "source": [
        "### Comparision table for solving `x` in `Ax=b` using different methods\n",
        "\n",
        ">`Time (Built)`: Time taken by Built method\n",
        "\n",
        ">`Time (Scipy.lu)`: Time taken by `Scipy.linalg.lu_factor` method\n",
        "\n",
        ">`Time (Scipy.lu_factor)`: `Scipy.linalg.lu` method\n",
        "\n",
        ">`|| Ax-b (Built) ||`: Norm of **Ax-b** matrix, where **x** calculated using Built method\n",
        "\n",
        ">`|| Ax-b (Scipy.lu) ||`: Norm of **Ax-b** matrix, where **x** calculated using `Scipy.linalg.lu` method\n",
        "\n",
        ">`|| Ax-b (Scipy.lu_factor) ||`: Norm of **Ax-b** matrix, where **x** calculated using `Scipy.linalg.lu_factor` method"
      ]
    },
    {
      "cell_type": "code",
      "execution_count": 7,
      "metadata": {
        "colab": {
          "base_uri": "https://localhost:8080/",
          "height": 281
        },
        "id": "CLIPDr0VNQiT",
        "outputId": "215e5ecb-00d1-4a43-fb16-8d6d004c9e9b"
      },
      "outputs": [
        {
          "data": {
            "text/html": [
              "<div>\n",
              "<style scoped>\n",
              "    .dataframe tbody tr th:only-of-type {\n",
              "        vertical-align: middle;\n",
              "    }\n",
              "\n",
              "    .dataframe tbody tr th {\n",
              "        vertical-align: top;\n",
              "    }\n",
              "\n",
              "    .dataframe thead th {\n",
              "        text-align: right;\n",
              "    }\n",
              "</style>\n",
              "<table border=\"1\" class=\"dataframe\">\n",
              "  <thead>\n",
              "    <tr style=\"text-align: right;\">\n",
              "      <th></th>\n",
              "      <th>Time (Built)</th>\n",
              "      <th>Time (Scipy.lu)</th>\n",
              "      <th>Time (Scipy.lu_factor)</th>\n",
              "      <th>|| Ax-b (Built) ||</th>\n",
              "      <th>|| Ax-b (Scipy.lu) ||</th>\n",
              "      <th>|| Ax-b (Scipy.lu_factor) ||</th>\n",
              "    </tr>\n",
              "    <tr>\n",
              "      <th>Degree</th>\n",
              "      <th></th>\n",
              "      <th></th>\n",
              "      <th></th>\n",
              "      <th></th>\n",
              "      <th></th>\n",
              "      <th></th>\n",
              "    </tr>\n",
              "  </thead>\n",
              "  <tbody>\n",
              "    <tr>\n",
              "      <th>10</th>\n",
              "      <td>6.87000e+04</td>\n",
              "      <td>2.11010e+06</td>\n",
              "      <td>1.07100e+06</td>\n",
              "      <td>4.45154e-14</td>\n",
              "      <td>8.24237e-14</td>\n",
              "      <td>8.24237e-14</td>\n",
              "    </tr>\n",
              "    <tr>\n",
              "      <th>100</th>\n",
              "      <td>2.31850e+06</td>\n",
              "      <td>1.46300e+05</td>\n",
              "      <td>8.58000e+04</td>\n",
              "      <td>3.34850e-10</td>\n",
              "      <td>2.47200e-10</td>\n",
              "      <td>2.47200e-10</td>\n",
              "    </tr>\n",
              "  </tbody>\n",
              "</table>\n",
              "</div>"
            ],
            "text/plain": [
              "       Time (Built) Time (Scipy.lu) Time (Scipy.lu_factor) || Ax-b (Built) ||  \\\n",
              "Degree                                                                          \n",
              "10      6.87000e+04     2.11010e+06            1.07100e+06        4.45154e-14   \n",
              "100     2.31850e+06     1.46300e+05            8.58000e+04        3.34850e-10   \n",
              "\n",
              "       || Ax-b (Scipy.lu) || || Ax-b (Scipy.lu_factor) ||  \n",
              "Degree                                                     \n",
              "10               8.24237e-14                  8.24237e-14  \n",
              "100              2.47200e-10                  2.47200e-10  "
            ]
          },
          "execution_count": 7,
          "metadata": {},
          "output_type": "execute_result"
        }
      ],
      "source": [
        "soln_stat"
      ]
    }
  ],
  "metadata": {
    "colab": {
      "provenance": []
    },
    "kernelspec": {
      "display_name": "Python 3",
      "language": "python",
      "name": "python3"
    },
    "language_info": {
      "codemirror_mode": {
        "name": "ipython",
        "version": 3
      },
      "file_extension": ".py",
      "mimetype": "text/x-python",
      "name": "python",
      "nbconvert_exporter": "python",
      "pygments_lexer": "ipython3",
      "version": "3.10.4"
    },
    "orig_nbformat": 4,
    "vscode": {
      "interpreter": {
        "hash": "22a8ea357d453445cc82658ebbb40350f6423fa9803dd2d6bb589b92cbb3f7a5"
      }
    }
  },
  "nbformat": 4,
  "nbformat_minor": 0
}
