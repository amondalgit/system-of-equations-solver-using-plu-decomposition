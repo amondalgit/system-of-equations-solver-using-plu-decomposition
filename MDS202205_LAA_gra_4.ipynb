{
 "cells": [
  {
   "attachments": {},
   "cell_type": "markdown",
   "metadata": {},
   "source": [
    "![Gaussian Elimination with Partial Pivoting](./ge_partial_pivoting.png)"
   ]
  },
  {
   "attachments": {},
   "cell_type": "markdown",
   "metadata": {},
   "source": [
    "### Import Dependncies"
   ]
  },
  {
   "cell_type": "code",
   "execution_count": 5,
   "metadata": {},
   "outputs": [],
   "source": [
    "import numpy as np\n",
    "import helper as hp\n",
    "import numpy.linalg as LA\n",
    "import scipy.linalg as SLA\n",
    "import pandas as pd\n",
    "\n",
    "from time import perf_counter\n",
    "from IPython.display import display\n",
    "\n",
    "pd.set_option('display.float_format', '{:.5e}'.format)"
   ]
  },
  {
   "attachments": {},
   "cell_type": "markdown",
   "metadata": {},
   "source": [
    "## Comparison Table generation\n",
    "Block to generate tables for comparing execution Times and Norms between 3 methods:\n",
    "1. Built function\n",
    "1. `Scipy.linalg.lu` method \n",
    "    >decomposes given matrix **A** into 3 matrices **P** **L** **U**, where degree(**A**) == degree(**P**, **L**, **U**)\n",
    "1. `Scipy.linalg.lu_factor` method\n",
    "    >decomposes given matrix **A** into a matrix **lu** and **piv**, where, \n",
    "    >\n",
    "    >**lu**: (M,N) Matrix containing **U** in its upper triangle, and **L** in its lower triangle. The unit diagonal elements of **L** are not stored.\n",
    "    >\n",
    "    >**piv** : (N,) ndarray. Pivot indices representing the permutation matrix **P**: row `i` of matrix was interchanged with row **piv**[`i`]."
   ]
  },
  {
   "attachments": {},
   "cell_type": "markdown",
   "metadata": {},
   "source": [
    "### Function for generating two tables"
   ]
  },
  {
   "cell_type": "code",
   "execution_count": 12,
   "metadata": {},
   "outputs": [],
   "source": [
    "def final_comparison(degree_arr):\n",
    "    headers1 = ['Time (Built)','Time (Scipy.lu)', 'Time (Scipy.lu_factor)','|| PA-LU (Built) ||','|| PA-LU (Scipy.lu) ||']\n",
    "    headers2 = ['Time (Built)','Time (Scipy.lu)', 'Time (Scipy.lu_factor)', '|| Ax-b (Built) ||','|| Ax-b (Scipy.lu) ||','|| Ax-b (Scipy.lu_factor) ||']\n",
    "    \n",
    "    decomp_stat_table = pd.DataFrame(columns=headers1, index=degree_arr)\n",
    "    soln_stat_table = pd.DataFrame(columns=headers2, index=degree_arr)\n",
    "\n",
    "    decomp_stat_table.index.names = ['Degree']\n",
    "    soln_stat_table.index.names = ['Degree']\n",
    "\n",
    "    for degree in degree_arr:\n",
    "        A, b = hp.get_matrix(degree), hp.get_array(degree)\n",
    "        \n",
    "        my_result = hp.my_system_of_equations_solver(A, b)\n",
    "        scipy_result = hp.scipy_system_of_equations_solver(A, b)\n",
    "     \n",
    "        if my_result == None or scipy_result == None:\n",
    "            decomp_stat_table.loc[degree]= ['Singular Matrix'] * len(headers1)\n",
    "            soln_stat_table.loc[degree]= ['Singular Matrix'] * len(headers2)\n",
    "        else:\n",
    "            decomp_stat_table.loc[degree] = [my_result['time_decomp'], scipy_result['time_decomp_lu'], scipy_result['time_decomp_lu_factor'], \n",
    "                                             my_result['palu_norm'], scipy_result['palu_norm_lu']]\n",
    "            \n",
    "            soln_stat_table.loc[degree] = [my_result['time_solve'], scipy_result['time_solve_lu'], scipy_result['time_solve_lu_factor'], \n",
    "                                           my_result['axb_norm'], scipy_result['axb_norm_lu'], scipy_result['axb_norm_lu_factor']]\n",
    "\n",
    "    return decomp_stat_table, soln_stat_table"
   ]
  },
  {
   "attachments": {},
   "cell_type": "markdown",
   "metadata": {},
   "source": [
    "### Execution on matrices of different sizes"
   ]
  },
  {
   "cell_type": "code",
   "execution_count": null,
   "metadata": {},
   "outputs": [],
   "source": [
    "degree_array = [10,100,500]         # size of the square matrices\n",
    "decomp_stat, soln_stat = final_comparison(degree_array)"
   ]
  },
  {
   "attachments": {},
   "cell_type": "markdown",
   "metadata": {},
   "source": [
    "### Comparision table for LU decomposion using different methods\n",
    "\n",
    ">`Time (Built)`: Time taken by Built method\n",
    "\n",
    ">`Time (Scipy.lu)`: Time taken by `Scipy.linalg.lu_factor` method\n",
    "\n",
    ">`Time (Scipy.lu_factor)`: `Scipy.linalg.lu` method\n",
    "\n",
    ">`|| PA-LU (Built) ||`: Norm of **PA-LU** matrix, where **P**, **L**, **U** calculated using Built method\n",
    "\n",
    ">`|| PA-LU (Scipy.lu) ||`: Norm of **PA-LU** matrix, where **P**, **L**, **U** calculated using `Scipy.linalg.lu` method\n",
    "\n",
    "*Please Note:* Norm of **PA-LU** using `Scipy.linalg.lu_factor` method could not be easily calculated because the Permutation matrix is in LEPACK's permutation array format."
   ]
  },
  {
   "cell_type": "code",
   "execution_count": 10,
   "metadata": {},
   "outputs": [
    {
     "data": {
      "text/html": [
       "<div>\n",
       "<style scoped>\n",
       "    .dataframe tbody tr th:only-of-type {\n",
       "        vertical-align: middle;\n",
       "    }\n",
       "\n",
       "    .dataframe tbody tr th {\n",
       "        vertical-align: top;\n",
       "    }\n",
       "\n",
       "    .dataframe thead th {\n",
       "        text-align: right;\n",
       "    }\n",
       "</style>\n",
       "<table border=\"1\" class=\"dataframe\">\n",
       "  <thead>\n",
       "    <tr style=\"text-align: right;\">\n",
       "      <th></th>\n",
       "      <th>Time (Built)</th>\n",
       "      <th>Time (Scipy.lu)</th>\n",
       "      <th>Time (Scipy.lu_factor)</th>\n",
       "      <th>|| PA-LU (Built) ||</th>\n",
       "      <th>|| PA-LU (Scipy.lu) ||</th>\n",
       "    </tr>\n",
       "    <tr>\n",
       "      <th>Degree</th>\n",
       "      <th></th>\n",
       "      <th></th>\n",
       "      <th></th>\n",
       "      <th></th>\n",
       "      <th></th>\n",
       "    </tr>\n",
       "  </thead>\n",
       "  <tbody>\n",
       "    <tr>\n",
       "      <th>10</th>\n",
       "      <td>4.48000e-04</td>\n",
       "      <td>5.66100e-04</td>\n",
       "      <td>1.68000e-05</td>\n",
       "      <td>7.40125e-14</td>\n",
       "      <td>8.48059e-14</td>\n",
       "    </tr>\n",
       "    <tr>\n",
       "      <th>100</th>\n",
       "      <td>1.56434e-02</td>\n",
       "      <td>3.49470e-03</td>\n",
       "      <td>1.28920e-03</td>\n",
       "      <td>4.34047e-12</td>\n",
       "      <td>3.73204e-12</td>\n",
       "    </tr>\n",
       "    <tr>\n",
       "      <th>500</th>\n",
       "      <td>4.35451e-01</td>\n",
       "      <td>3.39288e-02</td>\n",
       "      <td>1.47550e-02</td>\n",
       "      <td>7.08826e-11</td>\n",
       "      <td>8.38424e-11</td>\n",
       "    </tr>\n",
       "  </tbody>\n",
       "</table>\n",
       "</div>"
      ],
      "text/plain": [
       "       Time (Built) Time (Scipy.lu) Time (Scipy.lu_factor)  \\\n",
       "Degree                                                       \n",
       "10      4.48000e-04     5.66100e-04            1.68000e-05   \n",
       "100     1.56434e-02     3.49470e-03            1.28920e-03   \n",
       "500     4.35451e-01     3.39288e-02            1.47550e-02   \n",
       "\n",
       "       || PA-LU (Built) || || PA-LU (Scipy.lu) ||  \n",
       "Degree                                             \n",
       "10             7.40125e-14            8.48059e-14  \n",
       "100            4.34047e-12            3.73204e-12  \n",
       "500            7.08826e-11            8.38424e-11  "
      ]
     },
     "execution_count": 10,
     "metadata": {},
     "output_type": "execute_result"
    }
   ],
   "source": [
    "decomp_stat"
   ]
  },
  {
   "attachments": {},
   "cell_type": "markdown",
   "metadata": {},
   "source": [
    "### Comparision table for solving `x` in `Ax=b` using different methods\n",
    "\n",
    ">`Time (Built)`: Time taken by Built method\n",
    "\n",
    ">`Time (Scipy.lu)`: Time taken by `Scipy.linalg.lu_factor` method\n",
    "\n",
    ">`Time (Scipy.lu_factor)`: `Scipy.linalg.lu` method\n",
    "\n",
    ">`|| Ax-b (Built) ||`: Norm of **Ax-b** matrix, where **x** calculated using Built method\n",
    "\n",
    ">`|| Ax-b (Scipy.lu) ||`: Norm of **Ax-b** matrix, where **x** calculated using `Scipy.linalg.lu` method\n",
    "\n",
    ">`|| Ax-b (Scipy.lu_factor) ||`: Norm of **Ax-b** matrix, where **x** calculated using `Scipy.linalg.lu_factor` method"
   ]
  },
  {
   "cell_type": "code",
   "execution_count": 11,
   "metadata": {},
   "outputs": [
    {
     "data": {
      "text/html": [
       "<div>\n",
       "<style scoped>\n",
       "    .dataframe tbody tr th:only-of-type {\n",
       "        vertical-align: middle;\n",
       "    }\n",
       "\n",
       "    .dataframe tbody tr th {\n",
       "        vertical-align: top;\n",
       "    }\n",
       "\n",
       "    .dataframe thead th {\n",
       "        text-align: right;\n",
       "    }\n",
       "</style>\n",
       "<table border=\"1\" class=\"dataframe\">\n",
       "  <thead>\n",
       "    <tr style=\"text-align: right;\">\n",
       "      <th></th>\n",
       "      <th>Time (Built)</th>\n",
       "      <th>Time (Scipy.lu)</th>\n",
       "      <th>Time (Scipy.lu_factor)</th>\n",
       "      <th>|| Ax-b (Built) ||</th>\n",
       "      <th>|| Ax-b (Scipy.lu) ||</th>\n",
       "      <th>|| Ax-b (Scipy.lu_factor) ||</th>\n",
       "    </tr>\n",
       "    <tr>\n",
       "      <th>Degree</th>\n",
       "      <th></th>\n",
       "      <th></th>\n",
       "      <th></th>\n",
       "      <th></th>\n",
       "      <th></th>\n",
       "      <th></th>\n",
       "    </tr>\n",
       "  </thead>\n",
       "  <tbody>\n",
       "    <tr>\n",
       "      <th>10</th>\n",
       "      <td>5.93000e-05</td>\n",
       "      <td>8.46000e-05</td>\n",
       "      <td>1.65000e-05</td>\n",
       "      <td>4.45154e-14</td>\n",
       "      <td>8.24237e-14</td>\n",
       "      <td>8.24237e-14</td>\n",
       "    </tr>\n",
       "    <tr>\n",
       "      <th>100</th>\n",
       "      <td>1.91960e-03</td>\n",
       "      <td>8.56000e-05</td>\n",
       "      <td>2.47000e-05</td>\n",
       "      <td>3.34850e-10</td>\n",
       "      <td>2.47200e-10</td>\n",
       "      <td>2.47200e-10</td>\n",
       "    </tr>\n",
       "    <tr>\n",
       "      <th>500</th>\n",
       "      <td>4.26969e-02</td>\n",
       "      <td>8.68500e-04</td>\n",
       "      <td>1.48900e-04</td>\n",
       "      <td>1.76565e-10</td>\n",
       "      <td>9.05674e-11</td>\n",
       "      <td>9.05674e-11</td>\n",
       "    </tr>\n",
       "  </tbody>\n",
       "</table>\n",
       "</div>"
      ],
      "text/plain": [
       "       Time (Built) Time (Scipy.lu) Time (Scipy.lu_factor) || Ax-b (Built) ||  \\\n",
       "Degree                                                                          \n",
       "10      5.93000e-05     8.46000e-05            1.65000e-05        4.45154e-14   \n",
       "100     1.91960e-03     8.56000e-05            2.47000e-05        3.34850e-10   \n",
       "500     4.26969e-02     8.68500e-04            1.48900e-04        1.76565e-10   \n",
       "\n",
       "       || Ax-b (Scipy.lu) || || Ax-b (Scipy.lu_factor) ||  \n",
       "Degree                                                     \n",
       "10               8.24237e-14                  8.24237e-14  \n",
       "100              2.47200e-10                  2.47200e-10  \n",
       "500              9.05674e-11                  9.05674e-11  "
      ]
     },
     "execution_count": 11,
     "metadata": {},
     "output_type": "execute_result"
    }
   ],
   "source": [
    "soln_stat"
   ]
  }
 ],
 "metadata": {
  "kernelspec": {
   "display_name": "Python 3",
   "language": "python",
   "name": "python3"
  },
  "language_info": {
   "codemirror_mode": {
    "name": "ipython",
    "version": 3
   },
   "file_extension": ".py",
   "mimetype": "text/x-python",
   "name": "python",
   "nbconvert_exporter": "python",
   "pygments_lexer": "ipython3",
   "version": "3.10.4"
  },
  "orig_nbformat": 4,
  "vscode": {
   "interpreter": {
    "hash": "22a8ea357d453445cc82658ebbb40350f6423fa9803dd2d6bb589b92cbb3f7a5"
   }
  }
 },
 "nbformat": 4,
 "nbformat_minor": 2
}
